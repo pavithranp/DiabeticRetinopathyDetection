{
  "nbformat": 4,
  "nbformat_minor": 0,
  "metadata": {
    "colab": {
      "name": "Diabetic Retinopathy Binary Classification Output.ipynb",
      "provenance": [],
      "collapsed_sections": []
    },
    "kernelspec": {
      "name": "python3",
      "display_name": "Python 3"
    },
    "accelerator": "GPU"
  },
  "cells": [
    {
      "cell_type": "markdown",
      "metadata": {
        "id": "z1owbStNBkwI",
        "colab_type": "text"
      },
      "source": [
        "\n",
        "Project Name    :   Diabetic Retinopathy Detection\n",
        "\n",
        "Description     :   \n",
        "\n",
        "This project aims at detecting the presence of Diabetic Retinopathy. Diabetic Retinopathy is an eye disease\n",
        "                    that damages the retina of the eyes due to diabetes. Retinal fundus Image is fed as input to the model,\n",
        "                    and the model classifies it as either Non-Referable Diabetics Retinopathy(NRDR) or Referable Diabetics\n",
        "                    Retinopathy(RDR)\n",
        "\n",
        "File Description:   \n",
        "\n",
        "This notebook consists of input pipeline, data balancing, data augmentation, model implementation, model prediction and model evaluation for Diabetic retinopathy binary classification problem\n",
        "\n",
        "Contributors    :  Abirami Ravi (st164591)"
      ]
    },
    {
      "cell_type": "code",
      "metadata": {
        "id": "oYi1CGjzBiqC",
        "colab_type": "code",
        "colab": {
          "base_uri": "https://localhost:8080/",
          "height": 50
        },
        "outputId": "5e15e9fc-fbb3-48b3-e20d-91962a195013"
      },
      "source": [
        "from google.colab import drive\n",
        "drive.mount ('/content/gdrive' )\n",
        "root_path = '/content/gdrive/My Drive/Retinopathy'\n",
        "print(root_path)"
      ],
      "execution_count": 80,
      "outputs": [
        {
          "output_type": "stream",
          "text": [
            "Drive already mounted at /content/gdrive; to attempt to forcibly remount, call drive.mount(\"/content/gdrive\", force_remount=True).\n",
            "/content/gdrive/My Drive/Retinopathy\n"
          ],
          "name": "stdout"
        }
      ]
    },
    {
      "cell_type": "code",
      "metadata": {
        "id": "4Ujnba3MLoXN",
        "colab_type": "code",
        "colab": {}
      },
      "source": [
        "!pip3 install --upgrade tensorflow\n",
        "!pip3 install tensorflow-addons"
      ],
      "execution_count": 0,
      "outputs": []
    },
    {
      "cell_type": "code",
      "metadata": {
        "id": "jW-z5TeJL6m_",
        "colab_type": "code",
        "colab": {}
      },
      "source": [
        "import tensorflow as tf\n",
        "import pathlib\n",
        "import tensorflow.keras as k\n",
        "import tensorflow_addons as tfa\n",
        "import numpy as np\n",
        "import matplotlib.pyplot as plt\n",
        "from tensorflow.keras.applications import MobileNet\n",
        "from tensorflow.keras.layers import Dense,MaxPooling2D, Input, Conv2D, LeakyReLU, Flatten, GlobalAveragePooling2D, Dropout, BatchNormalization\n",
        "from tensorflow.keras.applications.mobilenet import preprocess_input \n",
        "from tensorflow.keras.optimizers import SGD\n",
        "from tensorflow.keras import Model\n",
        "import cv2\n",
        "from tensorflow.python.framework.ops import disable_eager_execution"
      ],
      "execution_count": 0,
      "outputs": []
    },
    {
      "cell_type": "markdown",
      "metadata": {
        "id": "cWlxvzJVCt5e",
        "colab_type": "text"
      },
      "source": [
        "Import the dataset from local machine\n",
        "\n",
        "Defining the location of the dataset and extracting the count of the training and test images."
      ]
    },
    {
      "cell_type": "code",
      "metadata": {
        "id": "M7YjKIYYNk3H",
        "colab_type": "code",
        "colab": {}
      },
      "source": [
        "from google.colab import drive\n",
        "drive.mount ('/content/gdrive' )\n",
        "root_path = '/content/gdrive/My Drive/Retinopathy'\n",
        "print(root_path)"
      ],
      "execution_count": 0,
      "outputs": []
    },
    {
      "cell_type": "code",
      "metadata": {
        "id": "zNV6HXMZMBJp",
        "colab_type": "code",
        "outputId": "88b8fc7a-fd29-4578-93c4-71e51fc11998",
        "colab": {
          "base_uri": "https://localhost:8080/",
          "height": 84
        }
      },
      "source": [
        "train_directory = root_path + \"/OriginalImages/TrainingSet\"\n",
        "test_directory = root_path + \"/OriginalImages/TestingSet\"\n",
        "\n",
        "training_set_path = pathlib.Path(train_directory)\n",
        "testing_set_path = pathlib.Path(test_directory)\n",
        "training_labels = root_path + \"/GroundTruths/IDRiD_Disease Grading_Training Labels.csv\"\n",
        "test_labels = root_path + \"/GroundTruths/IDRiD_Disease Grading_Testing Labels.csv\"\n",
        "\n",
        "print(training_set_path)\n",
        "print(testing_set_path)\n",
        "train_image_count = len(list(training_set_path.glob(\"*.jpg\")))\n",
        "test_image_count = len(list(testing_set_path.glob(\"*.jpg\")))\n",
        "print(\"train images =\",train_image_count)\n",
        "print(\"test images =\",test_image_count)"
      ],
      "execution_count": 4,
      "outputs": [
        {
          "output_type": "stream",
          "text": [
            "/content/gdrive/My Drive/Retinopathy/OriginalImages/TrainingSet\n",
            "/content/gdrive/My Drive/Retinopathy/OriginalImages/TestingSet\n",
            "train images = 413\n",
            "test images = 103\n"
          ],
          "name": "stdout"
        }
      ]
    },
    {
      "cell_type": "markdown",
      "metadata": {
        "id": "RN2OvXYbDANI",
        "colab_type": "text"
      },
      "source": [
        "Function Name       : decode_img\n",
        "\n",
        "Function Description: Takes the content of the image input of any size and produces resized image of size 256*256\n",
        "\n",
        "Arguments           : A Tensor of type String(content of img)\n",
        "\n",
        "Returns             : Resized image of size 256*256"
      ]
    },
    {
      "cell_type": "code",
      "metadata": {
        "id": "hu8UVZsEMGAC",
        "colab_type": "code",
        "colab": {}
      },
      "source": [
        "def decode_img(img):\n",
        "    # convert the compressed string to a 3D uint8 tensor\n",
        "    img = tf.image.decode_jpeg(img, channels=3)\n",
        "    # Use `convert_image_dtype` to convert to floats in the [0,1] range.\n",
        "    img = tf.image.convert_image_dtype(img, tf.float32)\n",
        "    # resize the image to the desired size.\n",
        "    return tf.image.resize(img, [256, 256])\n"
      ],
      "execution_count": 0,
      "outputs": []
    },
    {
      "cell_type": "markdown",
      "metadata": {
        "id": "AREPWCcWDMiL",
        "colab_type": "text"
      },
      "source": [
        "\n",
        "Function Name       : process_path\n",
        "\n",
        "Function Description: Takes filepath and label as input and produces resized image along with label\n",
        "\n",
        "Arguments           : image path and label\n",
        "\n",
        "Returns             : image and label\n"
      ]
    },
    {
      "cell_type": "code",
      "metadata": {
        "id": "DTUaYzUzDHnK",
        "colab_type": "code",
        "colab": {}
      },
      "source": [
        "def process_path(file_path,label):\n",
        "    # load the raw data from the file as a string\n",
        "    img = tf.io.read_file(file_path)\n",
        "    img = decode_img(img)\n",
        "    return img, label\n"
      ],
      "execution_count": 0,
      "outputs": []
    },
    {
      "cell_type": "markdown",
      "metadata": {
        "id": "SvzIsF0aDTDS",
        "colab_type": "text"
      },
      "source": [
        "Function Name       : image_rotate\n",
        "\n",
        "Function Description: Takes filepath and label as input and produces 90deg rotated and resized image along with label\n",
        "\n",
        "Arguments           : image path and label\n",
        "\n",
        "Returns             : image and label"
      ]
    },
    {
      "cell_type": "code",
      "metadata": {
        "id": "4Ex12ayvDVhS",
        "colab_type": "code",
        "colab": {}
      },
      "source": [
        "def image_rotate(file_path,label):\n",
        "    img = tf.io.read_file(file_path)\n",
        "    img = decode_img(img)\n",
        "    img = tfa.image.rotate(img,90)\n",
        "    return img, label"
      ],
      "execution_count": 0,
      "outputs": []
    },
    {
      "cell_type": "markdown",
      "metadata": {
        "id": "lUwrJ_DMDlDl",
        "colab_type": "text"
      },
      "source": [
        "Function Name       : adjust_contrast\n",
        "\n",
        "Function Description: Takes image file path and label as input and produces images with contrast modified by a factor of 1.5 along with label\n",
        "\n",
        "Arguments           : image path and label\n",
        "\n",
        "Returns             : image and label"
      ]
    },
    {
      "cell_type": "code",
      "metadata": {
        "id": "hGYOBqAmDf2c",
        "colab_type": "code",
        "colab": {}
      },
      "source": [
        "def adjust_contrast(file_path,label):\n",
        "    img = tf.io.read_file(file_path)\n",
        "    img = decode_img(img)\n",
        "    img = tf.image.adjust_contrast(img, 1.5)\n",
        "    return img, label"
      ],
      "execution_count": 0,
      "outputs": []
    },
    {
      "cell_type": "markdown",
      "metadata": {
        "id": "9FuiFVw7DrqD",
        "colab_type": "text"
      },
      "source": [
        "Function Name       : horizontal_flipped_images\n",
        "\n",
        "Function Description: Takes image file path and label as input and produces horizontally flipped images\n",
        "\n",
        "Arguments           : image path and label\n",
        "\n",
        "Returns             : image and label"
      ]
    },
    {
      "cell_type": "code",
      "metadata": {
        "id": "m6ehYsyuDr0L",
        "colab_type": "code",
        "colab": {}
      },
      "source": [
        "def horizontal_flipped_images(file_path, label):\n",
        "    img = tf.io.read_file(file_path)\n",
        "    img = decode_img(img)\n",
        "    img = tf.image.random_flip_left_right(img)\n",
        "    return img, label"
      ],
      "execution_count": 0,
      "outputs": []
    },
    {
      "cell_type": "markdown",
      "metadata": {
        "id": "MVgXEZ3-EBng",
        "colab_type": "text"
      },
      "source": [
        "Function Name : vertical_flipped_images\n",
        "\n",
        "Function Description: Takes image file path and label as input and produces vertically flipped images\n",
        "\n",
        "Arguments : image path and label\n",
        "\n",
        "Returns : image and label"
      ]
    },
    {
      "cell_type": "code",
      "metadata": {
        "id": "PQgAz3lPEJ4J",
        "colab_type": "code",
        "colab": {}
      },
      "source": [
        "def vertical_flipped_images(file_path, label):\n",
        "    img = tf.io.read_file(file_path)\n",
        "    img = decode_img(img)\n",
        "    img = tf.image.random_flip_up_down(img)\n",
        "    return img, label"
      ],
      "execution_count": 0,
      "outputs": []
    },
    {
      "cell_type": "markdown",
      "metadata": {
        "id": "-v8VChiOEM3I",
        "colab_type": "text"
      },
      "source": [
        "Function Name : adjust_brightness\n",
        "\n",
        "Function Description: Takes image file path and label as input and produces brighter image\n",
        "\n",
        "Arguments : image path and label\n",
        "\n",
        "Returns : image and label"
      ]
    },
    {
      "cell_type": "code",
      "metadata": {
        "id": "jRWfZTnwENCV",
        "colab_type": "code",
        "colab": {}
      },
      "source": [
        "def adjust_brightness(file_path, label):\n",
        "    img = tf.io.read_file(file_path)\n",
        "    img = decode_img(img)\n",
        "    img = tf.image.adjust_brightness(img,1.5)\n",
        "    return img, label"
      ],
      "execution_count": 0,
      "outputs": []
    },
    {
      "cell_type": "markdown",
      "metadata": {
        "id": "x3kPGAaJEaB6",
        "colab_type": "text"
      },
      "source": [
        "\n",
        "Function Name       :   referable_set\n",
        "\n",
        "Function Description:   This function is same as that of read_label_file but it extracts image paths for which the label value is '1'\n",
        "\n",
        "Arguments           :   image path and label file\n",
        "\n",
        "Returns             :   list of image paths and labels\n"
      ]
    },
    {
      "cell_type": "code",
      "metadata": {
        "id": "OOipX1CcMH_f",
        "colab_type": "code",
        "colab": {}
      },
      "source": [
        "def referable_set(filepath,directory,startpoint,endpoint):\n",
        "  images_list = []\n",
        "  labels_list = []\n",
        "  count = 0;\n",
        "  with open(filepath) as labels:\n",
        "    for line_no,line in enumerate(labels):\n",
        "      if line_no > endpoint:\n",
        "        break\n",
        "      if (line_no >= startpoint) and (line_no <= endpoint):\n",
        "        #print(line_no,line)\n",
        "        x = line.split(',')\n",
        "        #print(type(x),x)\n",
        "        if float(x[1]) > 1 :\n",
        "          labels_list.append(1)\n",
        "          path = directory + \"/\"+x[0]+\".jpg\"\n",
        "          images_list.append(path)\n",
        "          count = count + 1\n",
        "  #print(images_list,\"\\n\")\n",
        "  #print(labels_list)\n",
        "  #print(count)\n",
        "  return images_list,np.array(labels_list, dtype=np.float32)           \n"
      ],
      "execution_count": 0,
      "outputs": []
    },
    {
      "cell_type": "markdown",
      "metadata": {
        "id": "27jxl_B3EY11",
        "colab_type": "text"
      },
      "source": [
        "\n",
        "Function Name       :   non_referable_set\n",
        "\n",
        "Function Description:   This function is same as that of read_label_file but it extracts image paths for which the label value is '0'\n",
        "\n",
        "Arguments           : image path and label file\n",
        "\n",
        "Returns             : list of image paths and labels\n"
      ]
    },
    {
      "cell_type": "code",
      "metadata": {
        "id": "9YPEJAaOW4mm",
        "colab_type": "code",
        "colab": {}
      },
      "source": [
        "def non_referable_set(filepath,directory,startpoint,endpoint):\n",
        "  images_list = []\n",
        "  labels_list = []\n",
        "  count = 0;\n",
        "  with open(filepath) as labels:\n",
        "    for line_no,line in enumerate(labels):\n",
        "      if line_no > endpoint:\n",
        "        break\n",
        "      if (line_no >= startpoint) and (line_no <= endpoint):\n",
        "        #print(line_no,line)\n",
        "        x = line.split(',')\n",
        "        #print(type(x),x)\n",
        "        if float(x[1]) <= 1 :\n",
        "          labels_list.append(0)\n",
        "          path = directory + \"/\"+x[0]+\".jpg\"\n",
        "          images_list.append(path)\n",
        "          count = count + 1\n",
        "  #print(images_list,\"\\n\")\n",
        "  #print(labels_list)\n",
        "  #print(count)\n",
        "  return images_list,np.array(labels_list, dtype=np.float32)  "
      ],
      "execution_count": 0,
      "outputs": []
    },
    {
      "cell_type": "markdown",
      "metadata": {
        "id": "W1xJ6ZWIEsp_",
        "colab_type": "text"
      },
      "source": [
        "First of all validation dataset is created with equal number of referable set and non-referable set. \n",
        "\n",
        "Validation dataset of size 100 with NRDR : 50 and RDR: 50 is created"
      ]
    },
    {
      "cell_type": "code",
      "metadata": {
        "id": "v3Gljti2Mw4a",
        "colab_type": "code",
        "colab": {}
      },
      "source": [
        "valid_images_NR,valid_labels_NR = non_referable_set(training_labels,train_directory,1,193)\n",
        "#print(valid_images_NR, valid_labels_NR)\n",
        "#print(\"Total valid NR images:\",len(valid_images_NR))"
      ],
      "execution_count": 0,
      "outputs": []
    },
    {
      "cell_type": "code",
      "metadata": {
        "id": "58fOHJyEYLtv",
        "colab_type": "code",
        "colab": {}
      },
      "source": [
        "valid_images_R, valid_labels_R = referable_set(training_labels,train_directory, 1,51)\n",
        "#print(valid_images_R, valid_labels_R)\n",
        "#print(\"Total valid R images:\",len(valid_images_R))"
      ],
      "execution_count": 0,
      "outputs": []
    },
    {
      "cell_type": "code",
      "metadata": {
        "id": "vp8RIaV2YeiE",
        "colab_type": "code",
        "colab": {}
      },
      "source": [
        "valid_images = valid_images_NR + valid_images_R\n",
        "valid_labels = np.hstack((valid_labels_NR, valid_labels_R))\n",
        "#print(valid_labels)\n",
        "#print(\"Total valid images:\",len(valid_images))\n",
        "validation_ds = tf.data.Dataset.from_tensor_slices((valid_images,valid_labels))\n",
        "\n",
        "validation_ds = validation_ds.map(process_path, num_parallel_calls=None)\n",
        "validation_ds = validation_ds.shuffle(100).batch(10)\n",
        "#for elem in validation_ds:\n",
        "  #print(elem)"
      ],
      "execution_count": 0,
      "outputs": []
    },
    {
      "cell_type": "markdown",
      "metadata": {
        "id": "E0KAkKn8FOtT",
        "colab_type": "text"
      },
      "source": [
        "Training dataset is created with the remaining elements in the dataset that are present after the creation of validation dataset.\n",
        "\n",
        "Training dataset:\n",
        "\n",
        " *NRDR: 104*\n",
        "\n",
        "*RDR: 209*\n",
        "\n",
        "Total: 313"
      ]
    },
    {
      "cell_type": "code",
      "metadata": {
        "id": "-D7iFvP7aEky",
        "colab_type": "code",
        "colab": {}
      },
      "source": [
        "train_images_NR, train_labels_NR = non_referable_set(training_labels,train_directory,194,413)\n",
        "print(train_images_NR, train_labels_NR)\n",
        "print(\"NR training images:\", len(train_images_NR))"
      ],
      "execution_count": 0,
      "outputs": []
    },
    {
      "cell_type": "code",
      "metadata": {
        "id": "CvdPO7CLdfBz",
        "colab_type": "code",
        "colab": {}
      },
      "source": [
        "train_images_R, train_labels_R = referable_set(training_labels,train_directory, 52,413)\n",
        "print(train_images_R, train_labels_R)\n",
        "print(\"R training images:\", len(train_images_R))"
      ],
      "execution_count": 0,
      "outputs": []
    },
    {
      "cell_type": "code",
      "metadata": {
        "id": "YSGCWWuEd4Q0",
        "colab_type": "code",
        "colab": {}
      },
      "source": [
        "train_images = train_images_NR + train_images_R\n",
        "train_labels = np.hstack((train_labels_NR, train_labels_R))\n",
        "print(train_labels)\n",
        "print(\"Total training images:\",len(train_images))"
      ],
      "execution_count": 0,
      "outputs": []
    },
    {
      "cell_type": "code",
      "metadata": {
        "id": "c1zjCxVDmksN",
        "colab_type": "code",
        "colab": {}
      },
      "source": [
        "train_ds = tf.data.Dataset.from_tensor_slices((train_images,train_labels))\n",
        "train_ds = train_ds.shuffle(313)\n",
        "print(train_ds)\n",
        "'''for elem in train_ds:\n",
        "  print(elem)'''\n",
        "train_ds = train_ds.map(process_path, num_parallel_calls=None)\n",
        "#for elem in train_ds:\n",
        "  #print(elem)"
      ],
      "execution_count": 0,
      "outputs": []
    },
    {
      "cell_type": "markdown",
      "metadata": {
        "id": "PYEPckoqGv7b",
        "colab_type": "text"
      },
      "source": [
        "## Data Augmentation:\n",
        "The remaining images in the training dataset are augmented and resampling is done in order to produce a balanced dataset. The existing training dataset consists of 104 - NRDR and 209 - RDR.In total there are 313 items in the dataset.\n",
        "\n",
        "\n",
        "## Data balancing using data augmentation:\n",
        "1. Adjust contrast : 104 - NRDR and 209 - RDR\n",
        "2. Image rotation: 104 - NRDR and 209 RDR\n",
        "3. Vertical flipping: 104 - NRDR and 0 - RDR\n",
        "4. Horizontal flipping: 104 - NRDR and 0 - RDR\n",
        "5. Adjust Brightness: 104 - NRDR and 0 - RDR\n",
        "\n",
        "### Note:\n",
        "As the no of RDR is large compared to no of NRDR, flipping and adjust brightness data augmentation techniques is applied only to RDR data items\n",
        "\n",
        "After data augmentation the training dataset contains 624 - NRDR and 627 - RDR. Therefore the dataset is balanced with 1251 elements in total.\n",
        "\n"
      ]
    },
    {
      "cell_type": "code",
      "metadata": {
        "id": "pdEZb3mzpEKi",
        "colab_type": "code",
        "colab": {}
      },
      "source": [
        "train_img_contrast = train_images\n",
        "train_label_contrast = train_labels\n",
        "train_contrast_ds = tf.data.Dataset.from_tensor_slices((train_img_contrast,train_label_contrast))\n",
        "train_contrast_ds = train_contrast_ds.map(adjust_contrast, num_parallel_calls=None)\n",
        "combined_training_ds= train_ds.concatenate(train_contrast_ds)\n",
        "count = 0\n",
        "#for elem in combined_training_ds:\n",
        "  #count = count+1;\n",
        "#print(count)"
      ],
      "execution_count": 0,
      "outputs": []
    },
    {
      "cell_type": "code",
      "metadata": {
        "id": "cEwQW9PVQrAi",
        "colab_type": "code",
        "colab": {}
      },
      "source": [
        "#Rotation of images\n",
        "train_img_rotate = train_images\n",
        "train_label_rotate = train_labels\n",
        "train_rotate_ds = tf.data.Dataset.from_tensor_slices((train_img_rotate,train_label_rotate))\n",
        "train_rotate_ds = train_rotate_ds.map(image_rotate, num_parallel_calls=None)\n",
        "combined_training_ds1= combined_training_ds.concatenate(train_rotate_ds)\n"
      ],
      "execution_count": 0,
      "outputs": []
    },
    {
      "cell_type": "code",
      "metadata": {
        "id": "tjN6MCfFR5Go",
        "colab_type": "code",
        "colab": {}
      },
      "source": [
        "#Horizontal flipping and vertical flipping of images of type NR\n",
        "flip_images = train_images_NR\n",
        "flip_labels = train_labels_NR\n",
        "print(\"Total images to be flipped:\",len(flip_images))\n",
        "print(flip_images)"
      ],
      "execution_count": 0,
      "outputs": []
    },
    {
      "cell_type": "code",
      "metadata": {
        "id": "3L29kiPzrfvr",
        "colab_type": "code",
        "colab": {}
      },
      "source": [
        "train_hflipped_ds = tf.data.Dataset.from_tensor_slices((flip_images,flip_labels))\n",
        "train_hflipped_ds = train_hflipped_ds.shuffle(104)\n",
        "train_hflipped_ds = train_hflipped_ds.map(horizontal_flipped_images, num_parallel_calls=None)\n",
        "combined_training_ds2= combined_training_ds1.concatenate(train_hflipped_ds)\n",
        "count1 = 0\n",
        "'''for elem in combined_training_ds1:\n",
        "  count1 = count1+1\n",
        "print(count1)'''"
      ],
      "execution_count": 0,
      "outputs": []
    },
    {
      "cell_type": "code",
      "metadata": {
        "id": "RiOfS9lFSZwR",
        "colab_type": "code",
        "colab": {}
      },
      "source": [
        "#Vertical flipping of images\n",
        "train_vflipped_ds = tf.data.Dataset.from_tensor_slices((flip_images,flip_labels))\n",
        "train_vflipped_ds = train_vflipped_ds.shuffle(104)\n",
        "train_vflipped_ds = train_vflipped_ds.map(vertical_flipped_images, num_parallel_calls=None)\n",
        "combined_training_ds3= combined_training_ds2.concatenate(train_vflipped_ds)\n",
        "count1 = 0\n",
        "#for elem in combined_training_ds3:\n",
        "  #count1 = count1+1\n",
        "#print(count1)"
      ],
      "execution_count": 0,
      "outputs": []
    },
    {
      "cell_type": "code",
      "metadata": {
        "id": "mvutUkQFW1HV",
        "colab_type": "code",
        "outputId": "bec9a6eb-6890-4a2e-8c91-9680a624bf54",
        "colab": {
          "base_uri": "https://localhost:8080/",
          "height": 34
        }
      },
      "source": [
        "#adjust brightness\n",
        "train_brightness_ds = tf.data.Dataset.from_tensor_slices((flip_images,flip_labels))\n",
        "train_brightness_ds = train_brightness_ds.shuffle(104)\n",
        "train_brightness_ds = train_brightness_ds.map(adjust_brightness, num_parallel_calls=None)\n",
        "combined_training_ds4= combined_training_ds3.concatenate(train_brightness_ds)\n",
        "count1 = 0\n",
        "for elem in combined_training_ds4:\n",
        "  count1 = count1+1\n",
        "print(count1)"
      ],
      "execution_count": 22,
      "outputs": [
        {
          "output_type": "stream",
          "text": [
            "1251\n"
          ],
          "name": "stdout"
        }
      ]
    },
    {
      "cell_type": "code",
      "metadata": {
        "id": "rM-Myuqgwksz",
        "colab_type": "code",
        "colab": {}
      },
      "source": [
        "train_ds = combined_training_ds4.shuffle(1251).batch(10)\n"
      ],
      "execution_count": 0,
      "outputs": []
    },
    {
      "cell_type": "markdown",
      "metadata": {
        "id": "W8GwRgoyJgZR",
        "colab_type": "text"
      },
      "source": [
        "### Test Dataset Creation"
      ]
    },
    {
      "cell_type": "code",
      "metadata": {
        "id": "PvRYDo5JxPRm",
        "colab_type": "code",
        "colab": {}
      },
      "source": [
        "#test dataset creation\n",
        "test_images_NR, test_labels_NR = non_referable_set(test_labels,test_directory,1,103)\n",
        "test_images_R, test_labels_R = referable_set(test_labels,test_directory,1,103)\n"
      ],
      "execution_count": 0,
      "outputs": []
    },
    {
      "cell_type": "code",
      "metadata": {
        "id": "ubd4Omh0yUCf",
        "colab_type": "code",
        "colab": {}
      },
      "source": [
        "test_images = test_images_NR + test_images_R\n",
        "test_labels = np.hstack((test_labels_NR, test_labels_R))\n",
        "print(test_labels)\n",
        "print(\"Total test images:\",len(test_images))"
      ],
      "execution_count": 0,
      "outputs": []
    },
    {
      "cell_type": "code",
      "metadata": {
        "id": "c7rS6z5zyvNH",
        "colab_type": "code",
        "colab": {}
      },
      "source": [
        "test_ds = tf.data.Dataset.from_tensor_slices((test_images,test_labels))\n",
        "test_ds = test_ds.map(process_path, num_parallel_calls=None)\n",
        "test_ds = test_ds.shuffle(103).batch(10)"
      ],
      "execution_count": 0,
      "outputs": []
    },
    {
      "cell_type": "markdown",
      "metadata": {
        "id": "sTQ8oqH2Jnpo",
        "colab_type": "text"
      },
      "source": [
        "### Model Architecture\n"
      ]
    },
    {
      "cell_type": "code",
      "metadata": {
        "id": "5NqyOHRBTmTf",
        "colab_type": "code",
        "outputId": "dbe14b62-5d99-48a3-c7c0-9e0b1a01d7bb",
        "colab": {
          "base_uri": "https://localhost:8080/",
          "height": 638
        }
      },
      "source": [
        "batch_size = 100\n",
        "epochs = 150\n",
        "learning_rate = 0.0001\n",
        "\n",
        "inputs = k.layers.Input(shape=(256,256,3))\n",
        "\n",
        "conv_layer1 = Conv2D(4,3,(1,1))(inputs)\n",
        "print(conv_layer1)\n",
        "MP_layer1 = MaxPooling2D((3,3))(conv_layer1)\n",
        "BN_layer1 = BatchNormalization()(MP_layer1)\n",
        "\n",
        "# a layer instance is callable on a tensor, and returns a tensor\n",
        "conv_layer2 = Conv2D(8,3,(2,2))(BN_layer1)\n",
        "MP_layer2 = MaxPooling2D((3,3))(conv_layer2)\n",
        "BN_layer2 = BatchNormalization()(MP_layer2)\n",
        "\n",
        "conv_layer3 = Conv2D(16,3)(BN_layer2)\n",
        "MP_layer3 = MaxPooling2D((3,3))(conv_layer3)\n",
        "BN_layer3 = BatchNormalization()(MP_layer3)\n",
        "\n",
        "GAP = k.layers.GlobalAveragePooling2D()(BN_layer3)\n",
        "\n",
        "flatten = k.layers.Flatten()(GAP)\n",
        "dense_layer1 = Dense(4)(flatten)\n",
        "\n",
        "output = k.layers.Dense(1, activation='sigmoid')(dense_layer1)\n",
        "model = k.models.Model(inputs=inputs, outputs=output)\n",
        "opt = k.optimizers.RMSprop(learning_rate)\n",
        "model.compile(optimizer='Adam' ,loss=\"binary_crossentropy\", metrics= ['accuracy'])\n",
        "model.summary()\n",
        "#model = Model(inputs=inputs, outputs=output)"
      ],
      "execution_count": 38,
      "outputs": [
        {
          "output_type": "stream",
          "text": [
            "Tensor(\"conv2d_21/Identity:0\", shape=(None, 254, 254, 4), dtype=float32)\n",
            "Model: \"model_8\"\n",
            "_________________________________________________________________\n",
            "Layer (type)                 Output Shape              Param #   \n",
            "=================================================================\n",
            "input_9 (InputLayer)         [(None, 256, 256, 3)]     0         \n",
            "_________________________________________________________________\n",
            "conv2d_21 (Conv2D)           (None, 254, 254, 4)       112       \n",
            "_________________________________________________________________\n",
            "max_pooling2d_21 (MaxPooling (None, 84, 84, 4)         0         \n",
            "_________________________________________________________________\n",
            "batch_normalization_21 (Batc (None, 84, 84, 4)         16        \n",
            "_________________________________________________________________\n",
            "conv2d_22 (Conv2D)           (None, 41, 41, 8)         296       \n",
            "_________________________________________________________________\n",
            "max_pooling2d_22 (MaxPooling (None, 13, 13, 8)         0         \n",
            "_________________________________________________________________\n",
            "batch_normalization_22 (Batc (None, 13, 13, 8)         32        \n",
            "_________________________________________________________________\n",
            "conv2d_23 (Conv2D)           (None, 11, 11, 16)        1168      \n",
            "_________________________________________________________________\n",
            "max_pooling2d_23 (MaxPooling (None, 3, 3, 16)          0         \n",
            "_________________________________________________________________\n",
            "batch_normalization_23 (Batc (None, 3, 3, 16)          64        \n",
            "_________________________________________________________________\n",
            "global_average_pooling2d_8 ( (None, 16)                0         \n",
            "_________________________________________________________________\n",
            "flatten_8 (Flatten)          (None, 16)                0         \n",
            "_________________________________________________________________\n",
            "dense_16 (Dense)             (None, 4)                 68        \n",
            "_________________________________________________________________\n",
            "dense_17 (Dense)             (None, 1)                 5         \n",
            "=================================================================\n",
            "Total params: 1,761\n",
            "Trainable params: 1,705\n",
            "Non-trainable params: 56\n",
            "_________________________________________________________________\n"
          ],
          "name": "stdout"
        }
      ]
    },
    {
      "cell_type": "markdown",
      "metadata": {
        "id": "vjKzNZc8Jzvl",
        "colab_type": "text"
      },
      "source": [
        "## Model Training"
      ]
    },
    {
      "cell_type": "code",
      "metadata": {
        "id": "8EmTJxPSvbzV",
        "colab_type": "code",
        "colab": {}
      },
      "source": [
        "filepath=\"/Feb09binary-{epoch:02d}-{val_accuracy:.2f}.hdf5\"\n",
        "checkpoint_path = root_path + filepath\n",
        "\n",
        "checkpoint = tf.keras.callbacks.ModelCheckpoint(filepath=checkpoint_path, monitor='val_accuracy', verbose=1, save_best_only=True, mode='max',save_weights_only=False)\n",
        "callbacks_list = [checkpoint]\n",
        "\n",
        "model.fit(train_ds,validation_data=validation_ds, epochs = 150, callbacks=[checkpoint])"
      ],
      "execution_count": 0,
      "outputs": []
    },
    {
      "cell_type": "markdown",
      "metadata": {
        "id": "udOULOKxJ4Sj",
        "colab_type": "text"
      },
      "source": [
        "## Model Performance Visualization"
      ]
    },
    {
      "cell_type": "code",
      "metadata": {
        "id": "sPJFWA9r4dRj",
        "colab_type": "code",
        "outputId": "dda7b585-1dad-4c08-b259-c880153cbd80",
        "colab": {
          "base_uri": "https://localhost:8080/",
          "height": 295
        }
      },
      "source": [
        "# summarize history for training loss and validation loss\n",
        "plt.plot(model.history.history['loss'])\n",
        "plt.plot(model.history.history['val_loss'])\n",
        "plt.title('Model Loss')\n",
        "plt.ylabel('loss')\n",
        "plt.xlabel('epoch')\n",
        "plt.legend(['train', 'validation'], loc='upper left')\n",
        "plt.show()"
      ],
      "execution_count": 41,
      "outputs": [
        {
          "output_type": "display_data",
          "data": {
            "image/png": "[encoded data removed]",
            "text/plain": [
              "<Figure size 432x288 with 1 Axes>"
            ]
          },
          "metadata": {
            "tags": []
          }
        }
      ]
    },
    {
      "cell_type": "code",
      "metadata": {
        "id": "NJqNlKIMzt07",
        "colab_type": "code",
        "colab": {
          "base_uri": "https://localhost:8080/",
          "height": 295
        },
        "outputId": "543ac9d3-9b9c-45c2-9deb-d0a9c70115cb"
      },
      "source": [
        "# summarize history for training accuracy and validation accuracy\n",
        "plt.plot(model.history.history['accuracy'])\n",
        "plt.plot(model.history.history['val_accuracy'])\n",
        "plt.title('Model Accuracy')\n",
        "plt.ylabel('Accuracy')\n",
        "plt.xlabel('epoch')\n",
        "plt.legend(['train', 'validation'], loc='upper left')\n",
        "plt.show()"
      ],
      "execution_count": 43,
      "outputs": [
        {
          "output_type": "display_data",
          "data": {
            "image/png": "[encoded data removed]",
            "text/plain": [
              "<Figure size 432x288 with 1 Axes>"
            ]
          },
          "metadata": {
            "tags": []
          }
        }
      ]
    },
    {
      "cell_type": "markdown",
      "metadata": {
        "id": "mgIxCYDqKJ1n",
        "colab_type": "text"
      },
      "source": [
        "## Model Prediction"
      ]
    },
    {
      "cell_type": "code",
      "metadata": {
        "id": "wK2uQYeW0T59",
        "colab_type": "code",
        "colab": {}
      },
      "source": [
        "prediction = []\n",
        "result = model.predict(test_ds)\n",
        "for x in result:\n",
        "  prediction.append(int(tf.round(x)))"
      ],
      "execution_count": 0,
      "outputs": []
    },
    {
      "cell_type": "markdown",
      "metadata": {
        "id": "TJ7yY_lbKNV6",
        "colab_type": "text"
      },
      "source": [
        "## Model Evaluation\n",
        "\n",
        "Model is evaluated based on the following metrics:\n",
        "1. Confusion Matrix\n",
        "2. Precision\n",
        "3. Recall\n",
        "4. F1 score"
      ]
    },
    {
      "cell_type": "code",
      "metadata": {
        "id": "mM-WNU7x57tI",
        "colab_type": "code",
        "colab": {
          "base_uri": "https://localhost:8080/",
          "height": 118
        },
        "outputId": "2fcacd0e-dc06-4bfd-b615-5bc529311895"
      },
      "source": [
        "ground_truth = []\n",
        "for features, label in test_ds:\n",
        "  for y in label:\n",
        "    ground_truth.append(int(y))\n",
        "confusion = tf.math.confusion_matrix(\n",
        "    ground_truth,\n",
        "    prediction,\n",
        "    num_classes=None,\n",
        "    weights=None,\n",
        "    dtype=tf.dtypes.int32,\n",
        "    name=None\n",
        ")\n",
        "print(\"Confusion matrix:\",confusion)\n",
        "TP = confusion[1, 1]\n",
        "TN = confusion[0, 0]\n",
        "FP = confusion[0, 1]\n",
        "FN = confusion[1, 0]\n",
        "\n",
        "precision = float(TP / (TP + FP))\n",
        "print(\"Precision:\",precision)\n",
        "\n",
        "recall = float(TP/(TP+FN))\n",
        "print(\"Recall:\",recall)\n",
        "\n",
        "f1_score = 2 * (((precision*recall)/(precision+recall)))\n",
        "print(\"F1 score:\",f1_score)"
      ],
      "execution_count": 87,
      "outputs": [
        {
          "output_type": "stream",
          "text": [
            "Confusion matrix: tf.Tensor(\n",
            "[[14 25]\n",
            " [16 48]], shape=(2, 2), dtype=int32)\n",
            "Precision: 0.6575342465753424\n",
            "Recall: 0.75\n",
            "F1 score: 0.7007299270072993\n"
          ],
          "name": "stdout"
        }
      ]
    }
  ]
}
